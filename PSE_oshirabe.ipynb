{
 "cells": [
  {
   "cell_type": "markdown",
   "id": "d4209b13-ce0c-4e53-ba2b-4fda01bb4218",
   "metadata": {},
   "source": [
    "# PSE検索リスト"
   ]
  },
  {
   "cell_type": "markdown",
   "id": "7bc94a8a-237c-4e1c-9532-ac47ae5b4b30",
   "metadata": {},
   "source": [
    "## 116項目リスト"
   ]
  },
  {
   "cell_type": "markdown",
   "id": "401b1b18-acfa-41ef-88e6-437c2a208c19",
   "metadata": {},
   "source": [
    "# 特定電気用品以外の電気用品（341品目）一覧"
   ]
  },
  {
   "cell_type": "markdown",
   "id": "4ac4cecd-3fee-423c-b0d5-ab2497583e08",
   "metadata": {},
   "source": [
    "# 電気用品安全法 お調べツール"
   ]
  },
  {
   "cell_type": "code",
   "execution_count": 18,
   "id": "a2463870-32e8-46c0-860c-0f779071431d",
   "metadata": {},
   "outputs": [
    {
     "ename": "ValueError",
     "evalue": "Excel file format cannot be determined, you must specify an engine manually.",
     "output_type": "error",
     "traceback": [
      "\u001b[1;31m---------------------------------------------------------------------------\u001b[0m",
      "\u001b[1;31mValueError\u001b[0m                                Traceback (most recent call last)",
      "\u001b[1;32m~\\AppData\\Local\\Temp\\ipykernel_15680\\1837882411.py\u001b[0m in \u001b[0;36m<module>\u001b[1;34m\u001b[0m\n\u001b[0;32m     76\u001b[0m \u001b[1;33m\u001b[0m\u001b[0m\n\u001b[0;32m     77\u001b[0m \u001b[1;31m# Read the data from the files\u001b[0m\u001b[1;33m\u001b[0m\u001b[1;33m\u001b[0m\u001b[1;33m\u001b[0m\u001b[0m\n\u001b[1;32m---> 78\u001b[1;33m \u001b[0mspecified_products\u001b[0m \u001b[1;33m=\u001b[0m \u001b[0mread_specified_products\u001b[0m\u001b[1;33m(\u001b[0m\u001b[0mspecified_products_path\u001b[0m\u001b[1;33m)\u001b[0m\u001b[1;33m\u001b[0m\u001b[1;33m\u001b[0m\u001b[0m\n\u001b[0m\u001b[0;32m     79\u001b[0m \u001b[0mnon_specified_products\u001b[0m \u001b[1;33m=\u001b[0m \u001b[0mread_non_specified_products\u001b[0m\u001b[1;33m(\u001b[0m\u001b[0mnon_specified_products_path\u001b[0m\u001b[1;33m)\u001b[0m\u001b[1;33m\u001b[0m\u001b[1;33m\u001b[0m\u001b[0m\n\u001b[0;32m     80\u001b[0m \u001b[0mlaw_data\u001b[0m \u001b[1;33m=\u001b[0m \u001b[0mread_law_data\u001b[0m\u001b[1;33m(\u001b[0m\u001b[0mlaw_data_path\u001b[0m\u001b[1;33m)\u001b[0m\u001b[1;33m\u001b[0m\u001b[1;33m\u001b[0m\u001b[0m\n",
      "\u001b[1;32m~\\AppData\\Local\\Temp\\ipykernel_15680\\1837882411.py\u001b[0m in \u001b[0;36mread_specified_products\u001b[1;34m(filepath)\u001b[0m\n\u001b[0;32m     57\u001b[0m \u001b[1;32mdef\u001b[0m \u001b[0mread_specified_products\u001b[0m\u001b[1;33m(\u001b[0m\u001b[0mfilepath\u001b[0m\u001b[1;33m)\u001b[0m\u001b[1;33m:\u001b[0m\u001b[1;33m\u001b[0m\u001b[1;33m\u001b[0m\u001b[0m\n\u001b[0;32m     58\u001b[0m     \u001b[1;31m# Read the Excel file for specified electrical products\u001b[0m\u001b[1;33m\u001b[0m\u001b[1;33m\u001b[0m\u001b[1;33m\u001b[0m\u001b[0m\n\u001b[1;32m---> 59\u001b[1;33m     \u001b[1;32mreturn\u001b[0m \u001b[0mpd\u001b[0m\u001b[1;33m.\u001b[0m\u001b[0mread_excel\u001b[0m\u001b[1;33m(\u001b[0m\u001b[0mfilepath\u001b[0m\u001b[1;33m)\u001b[0m\u001b[1;33m\u001b[0m\u001b[1;33m\u001b[0m\u001b[0m\n\u001b[0m\u001b[0;32m     60\u001b[0m \u001b[1;33m\u001b[0m\u001b[0m\n\u001b[0;32m     61\u001b[0m \u001b[1;32mdef\u001b[0m \u001b[0mread_non_specified_products\u001b[0m\u001b[1;33m(\u001b[0m\u001b[0mfilepath\u001b[0m\u001b[1;33m)\u001b[0m\u001b[1;33m:\u001b[0m\u001b[1;33m\u001b[0m\u001b[1;33m\u001b[0m\u001b[0m\n",
      "\u001b[1;32m~\\anaconda3\\envs\\osac\\lib\\site-packages\\pandas\\util\\_decorators.py\u001b[0m in \u001b[0;36mwrapper\u001b[1;34m(*args, **kwargs)\u001b[0m\n\u001b[0;32m    309\u001b[0m                     \u001b[0mstacklevel\u001b[0m\u001b[1;33m=\u001b[0m\u001b[0mstacklevel\u001b[0m\u001b[1;33m,\u001b[0m\u001b[1;33m\u001b[0m\u001b[1;33m\u001b[0m\u001b[0m\n\u001b[0;32m    310\u001b[0m                 )\n\u001b[1;32m--> 311\u001b[1;33m             \u001b[1;32mreturn\u001b[0m \u001b[0mfunc\u001b[0m\u001b[1;33m(\u001b[0m\u001b[1;33m*\u001b[0m\u001b[0margs\u001b[0m\u001b[1;33m,\u001b[0m \u001b[1;33m**\u001b[0m\u001b[0mkwargs\u001b[0m\u001b[1;33m)\u001b[0m\u001b[1;33m\u001b[0m\u001b[1;33m\u001b[0m\u001b[0m\n\u001b[0m\u001b[0;32m    312\u001b[0m \u001b[1;33m\u001b[0m\u001b[0m\n\u001b[0;32m    313\u001b[0m         \u001b[1;32mreturn\u001b[0m \u001b[0mwrapper\u001b[0m\u001b[1;33m\u001b[0m\u001b[1;33m\u001b[0m\u001b[0m\n",
      "\u001b[1;32m~\\anaconda3\\envs\\osac\\lib\\site-packages\\pandas\\io\\excel\\_base.py\u001b[0m in \u001b[0;36mread_excel\u001b[1;34m(io, sheet_name, header, names, index_col, usecols, squeeze, dtype, engine, converters, true_values, false_values, skiprows, nrows, na_values, keep_default_na, na_filter, verbose, parse_dates, date_parser, thousands, comment, skipfooter, convert_float, mangle_dupe_cols, storage_options)\u001b[0m\n\u001b[0;32m    362\u001b[0m     \u001b[1;32mif\u001b[0m \u001b[1;32mnot\u001b[0m \u001b[0misinstance\u001b[0m\u001b[1;33m(\u001b[0m\u001b[0mio\u001b[0m\u001b[1;33m,\u001b[0m \u001b[0mExcelFile\u001b[0m\u001b[1;33m)\u001b[0m\u001b[1;33m:\u001b[0m\u001b[1;33m\u001b[0m\u001b[1;33m\u001b[0m\u001b[0m\n\u001b[0;32m    363\u001b[0m         \u001b[0mshould_close\u001b[0m \u001b[1;33m=\u001b[0m \u001b[1;32mTrue\u001b[0m\u001b[1;33m\u001b[0m\u001b[1;33m\u001b[0m\u001b[0m\n\u001b[1;32m--> 364\u001b[1;33m         \u001b[0mio\u001b[0m \u001b[1;33m=\u001b[0m \u001b[0mExcelFile\u001b[0m\u001b[1;33m(\u001b[0m\u001b[0mio\u001b[0m\u001b[1;33m,\u001b[0m \u001b[0mstorage_options\u001b[0m\u001b[1;33m=\u001b[0m\u001b[0mstorage_options\u001b[0m\u001b[1;33m,\u001b[0m \u001b[0mengine\u001b[0m\u001b[1;33m=\u001b[0m\u001b[0mengine\u001b[0m\u001b[1;33m)\u001b[0m\u001b[1;33m\u001b[0m\u001b[1;33m\u001b[0m\u001b[0m\n\u001b[0m\u001b[0;32m    365\u001b[0m     \u001b[1;32melif\u001b[0m \u001b[0mengine\u001b[0m \u001b[1;32mand\u001b[0m \u001b[0mengine\u001b[0m \u001b[1;33m!=\u001b[0m \u001b[0mio\u001b[0m\u001b[1;33m.\u001b[0m\u001b[0mengine\u001b[0m\u001b[1;33m:\u001b[0m\u001b[1;33m\u001b[0m\u001b[1;33m\u001b[0m\u001b[0m\n\u001b[0;32m    366\u001b[0m         raise ValueError(\n",
      "\u001b[1;32m~\\anaconda3\\envs\\osac\\lib\\site-packages\\pandas\\io\\excel\\_base.py\u001b[0m in \u001b[0;36m__init__\u001b[1;34m(self, path_or_buffer, engine, storage_options)\u001b[0m\n\u001b[0;32m   1194\u001b[0m                 \u001b[1;32mif\u001b[0m \u001b[0mext\u001b[0m \u001b[1;32mis\u001b[0m \u001b[1;32mNone\u001b[0m\u001b[1;33m:\u001b[0m\u001b[1;33m\u001b[0m\u001b[1;33m\u001b[0m\u001b[0m\n\u001b[0;32m   1195\u001b[0m                     raise ValueError(\n\u001b[1;32m-> 1196\u001b[1;33m                         \u001b[1;34m\"Excel file format cannot be determined, you must specify \"\u001b[0m\u001b[1;33m\u001b[0m\u001b[1;33m\u001b[0m\u001b[0m\n\u001b[0m\u001b[0;32m   1197\u001b[0m                         \u001b[1;34m\"an engine manually.\"\u001b[0m\u001b[1;33m\u001b[0m\u001b[1;33m\u001b[0m\u001b[0m\n\u001b[0;32m   1198\u001b[0m                     )\n",
      "\u001b[1;31mValueError\u001b[0m: Excel file format cannot be determined, you must specify an engine manually."
     ]
    }
   ],
   "source": [
    "import sys\n",
    "import pandas as pd\n",
    "from bs4 import BeautifulSoup\n",
    "from PySide2.QtWidgets import (\n",
    "    QApplication, QMainWindow, QWidget, QVBoxLayout, QHBoxLayout,\n",
    "    QLabel, QLineEdit, QPushButton, QTextEdit, QComboBox\n",
    ")\n",
    "\n",
    "class DenanTool(QMainWindow):\n",
    "    def __init__(self, specified_products, non_specified_products, law_data):\n",
    "        super().__init__()\n",
    "        self.specified_products = specified_products\n",
    "        self.non_specified_products = non_specified_products\n",
    "        self.law_data = law_data\n",
    "        self.initUI()\n",
    "\n",
    "    def initUI(self):\n",
    "        # Central Widget and Layout\n",
    "        self.centralWidget = QWidget()\n",
    "        self.setCentralWidget(self.centralWidget)\n",
    "        self.mainLayout = QVBoxLayout()\n",
    "        self.centralWidget.setLayout(self.mainLayout)\n",
    "\n",
    "        # Category Dropdown\n",
    "        self.categoryCombo = QComboBox()\n",
    "        self.categoryCombo.addItems(self.law_data['Category'].unique().tolist())\n",
    "        self.mainLayout.addWidget(self.categoryCombo)\n",
    "\n",
    "        # Search Bar\n",
    "        self.searchLayout = QHBoxLayout()\n",
    "        self.searchLabel = QLabel(\"製品検索:\")\n",
    "        self.searchEntry = QLineEdit()\n",
    "        self.searchButton = QPushButton(\"検索\")\n",
    "        self.searchLayout.addWidget(self.searchLabel)\n",
    "        self.searchLayout.addWidget(self.searchEntry)\n",
    "        self.searchLayout.addWidget(self.searchButton)\n",
    "        self.mainLayout.addLayout(self.searchLayout)\n",
    "\n",
    "        # Result Area\n",
    "        self.resultText = QTextEdit()\n",
    "        self.resultText.setReadOnly(True)\n",
    "        self.mainLayout.addWidget(self.resultText)\n",
    "\n",
    "        # Connect the Search Button to the Search Function\n",
    "        self.searchButton.clicked.connect(self.searchFunction)\n",
    "\n",
    "    def searchFunction(self):\n",
    "        # Implement the search logic here\n",
    "        search_query = self.searchEntry.text().lower()\n",
    "        category = self.categoryCombo.currentText()\n",
    "        results = self.specified_products[self.specified_products['Category'] == category]\n",
    "        results = results[results['Product'].str.contains(search_query, case=False, na=False)]\n",
    "\n",
    "        # Display the results\n",
    "        self.resultText.setPlainText(results.to_string(index=False))\n",
    "\n",
    "def read_specified_products(filepath):\n",
    "    # Read the Excel file for specified electrical products\n",
    "    return pd.read_excel(filepath)\n",
    "\n",
    "def read_non_specified_products(filepath):\n",
    "    # Read the Excel file for non-specified electrical products\n",
    "    return pd.read_excel(filepath)\n",
    "\n",
    "def read_law_data(filepath):\n",
    "    # Read the HTML file for law categories\n",
    "    with open(filepath, 'r', encoding='utf-8') as file:\n",
    "        soup = BeautifulSoup(file, 'html.parser')\n",
    "    categories = soup.find_all('h2')\n",
    "    return pd.DataFrame({'Category': [cat.get_text() for cat in categories]})\n",
    "\n",
    "# Paths to the files - replace with the actual paths\n",
    "specified_products_path = 'specified_electrical_products.xls'\n",
    "non_specified_products_path = 'non-specified_electrical_products.xls'\n",
    "law_data_path = '電気用品安全法施行令.htm'\n",
    "\n",
    "# Read the data from the files\n",
    "specified_products = read_specified_products(specified_products_path)\n",
    "non_specified_products = read_non_specified_products(non_specified_products_path)\n",
    "law_data = read_law_data(law_data_path)\n",
    "\n",
    "# Create an instance of QApplication\n",
    "app = QApplication(sys.argv)\n",
    "\n",
    "# Create an instance of the application's main window\n",
    "mainWindow = DenanTool(specified_products, non_specified_products, law_data)\n",
    "mainWindow.show()\n",
    "\n",
    "# Enter the application's main loop\n",
    "sys.exit(app.exec_())\n"
   ]
  },
  {
   "cell_type": "code",
   "execution_count": 1,
   "id": "3ee857a6-e72a-438d-80bc-26357877110a",
   "metadata": {},
   "outputs": [
    {
     "ename": "SystemExit",
     "evalue": "0",
     "output_type": "error",
     "traceback": [
      "An exception has occurred, use %tb to see the full traceback.\n",
      "\u001b[1;31mSystemExit\u001b[0m\u001b[1;31m:\u001b[0m 0\n"
     ]
    },
    {
     "name": "stderr",
     "output_type": "stream",
     "text": [
      "C:\\Users\\Manyan\\anaconda3\\envs\\osac\\lib\\site-packages\\IPython\\core\\interactiveshell.py:3465: UserWarning: To exit: use 'exit', 'quit', or Ctrl-D.\n",
      "  warn(\"To exit: use 'exit', 'quit', or Ctrl-D.\", stacklevel=1)\n"
     ]
    }
   ],
   "source": [
    "import sys\n",
    "import pandas as pd\n",
    "import webbrowser\n",
    "from PySide2.QtWidgets import QApplication, QWidget, QVBoxLayout, QLineEdit, QTextEdit, QPushButton\n",
    "from PySide2.QtCore import Slot\n",
    "\n",
    "class PSEChecker(QWidget):\n",
    "    def __init__(self):\n",
    "        super().__init__()\n",
    "        self.non_specified_df = None\n",
    "        self.specified_df = None\n",
    "        self.init_ui()\n",
    "\n",
    "    def init_ui(self):\n",
    "        self.setWindowTitle('電気用品安全法 お調べツール')\n",
    "        layout = QVBoxLayout()\n",
    "\n",
    "        self.search_box = QLineEdit(self)\n",
    "        self.search_box.setPlaceholderText('製品名を入力してください')\n",
    "        layout.addWidget(self.search_box)\n",
    "\n",
    "        self.search_button = QPushButton('検索', self)\n",
    "        self.search_button.clicked.connect(self.on_search_button_clicked)\n",
    "        layout.addWidget(self.search_button)\n",
    "\n",
    "        self.result_area = QTextEdit(self)\n",
    "        self.result_area.setReadOnly(True)\n",
    "        layout.addWidget(self.result_area)\n",
    "\n",
    "        self.setLayout(layout)\n",
    "\n",
    "    def load_excel_data(self):\n",
    "        try:\n",
    "            self.non_specified_df = pd.read_excel('non-specified_electrical_products.xlsx')\n",
    "            self.specified_df = pd.read_excel('specified_electrical_products.xlsx')\n",
    "        except Exception as e:\n",
    "            self.result_area.append(f\"Excelファイルの読み込みに失敗しました: {e}\")\n",
    "\n",
    "    def search_local_data(self, product_name):\n",
    "        # 非特定電気用品リストから検索\n",
    "        non_specified_results = self.non_specified_df[self.non_specified_df['Product'].str.contains(product_name, na=False)]\n",
    "        # 特定電気用品リストから検索\n",
    "        specified_results = self.specified_df[self.specified_df['Product'].str.contains(product_name, na=False)]\n",
    "\n",
    "        return non_specified_results, specified_results\n",
    "\n",
    "    @Slot()\n",
    "    def on_search_button_clicked(self):\n",
    "        product_name = self.search_box.text()\n",
    "        non_specified_results, specified_results = self.search_local_data(product_name)\n",
    "\n",
    "        # 結果を表示する\n",
    "        if not non_specified_results.empty:\n",
    "            self.result_area.append(\"非特定電気用品リストで見つかりました:\\n\" + non_specified_results.to_string(index=False))\n",
    "        if not specified_results.empty:\n",
    "            self.result_area.append(\"特定電気用品リストで見つかりました:\\n\" + specified_results.to_string(index=False))\n",
    "        if non_specified_results.empty and specified_results.empty:\n",
    "            search_url = f\"https://www.google.com/search?q={product_name.replace(' ', '+')}\"\n",
    "            webbrowser.open(search_url)\n",
    "            self.result_area.append(f\"ローカルには見つかりませんでした。Webで検索: {search_url}\")\n",
    "            search_url = f\"https://www.google.com/search?q={product_name.replace(' ', '+')}\"\n",
    "            webbrowser.open(search_url)\n",
    "\n",
    "if __name__ == \"__main__\":\n",
    "    app = QApplication(sys.argv)\n",
    "    if not QApplication.instance():\n",
    "        app = QApplication(sys.argv)\n",
    "    checker = PSEChecker()\n",
    "    checker.load_excel_data()\n",
    "    checker.show()\n",
    "    sys.exit(app.exec_())\n"
   ]
  },
  {
   "cell_type": "code",
   "execution_count": null,
   "id": "339c7daa-adad-4cc6-9a1c-65aeeac3df7a",
   "metadata": {},
   "outputs": [],
   "source": []
  },
  {
   "cell_type": "code",
   "execution_count": null,
   "id": "d15ca09d-7fac-4d39-8025-276b0d083ba3",
   "metadata": {},
   "outputs": [],
   "source": []
  }
 ],
 "metadata": {
  "kernelspec": {
   "display_name": "Python 3 (ipykernel)",
   "language": "python",
   "name": "python3"
  },
  "language_info": {
   "codemirror_mode": {
    "name": "ipython",
    "version": 3
   },
   "file_extension": ".py",
   "mimetype": "text/x-python",
   "name": "python",
   "nbconvert_exporter": "python",
   "pygments_lexer": "ipython3",
   "version": "3.7.16"
  }
 },
 "nbformat": 4,
 "nbformat_minor": 5
}
